{
 "cells": [
  {
   "cell_type": "markdown",
   "metadata": {},
   "source": [
    "# Financial Data Analysis Project\n",
    "\n",
    "## Introduction:\n",
    "In this notebook, I go through the end-to-end process of collecting, cleaning, exploring, analyzing, and visualizing data from Kaggle.com regarding financial metrics on S&P 500 companies. Analysis is done using Python and the following libraries/modules:\n",
    "- numpy\n",
    "- pandas\n",
    "- matplotlib\n",
    "- seaborn\n",
    "- scikit-learn\n",
    "\n",
    "### Goals / Objectives:\n",
    "1. What relations exist between S&P 500 companies and key financial metrics?\n",
    "2. How can information on these companies be used by investors to make financial decisions?\n",
    "3. How does net income differ from by industry/sector?\n",
    "    - What is the distribution of industries like for companies in the S&P 500?"
   ]
  },
  {
   "cell_type": "code",
   "execution_count": null,
   "metadata": {},
   "outputs": [],
   "source": [
    "import numpy as np\n",
    "import pandas as pd\n",
    "import matplotlib.pyplot as plt\n",
    "import seaborn as sns\n",
    "from sklearn.linear_model import LinearRegression\n",
    "from sklearn.model_selection import train_test_split\n",
    "import math"
   ]
  },
  {
   "cell_type": "markdown",
   "metadata": {},
   "source": [
    "## Collecting the Data:\n",
    "Step 1: Importing datasets and initial look into the data\n",
    "\n",
    "The following datasets were found on Kaggle.com and were loaded in using pandas dataframes. The datasets contain quantitative information on key financial metrics including net income and market cap, in addition to categorical data such as industry, sub-industry, and headquarters location"
   ]
  },
  {
   "cell_type": "code",
   "execution_count": null,
   "metadata": {},
   "outputs": [],
   "source": [
    "df1 = pd.read_csv('financial data sp500 companies.csv', encoding='windows-1252')\n",
    "df2 = pd.read_csv('sp500-companies.csv', encoding='windows-1252')\n",
    "df3 = pd.read_csv('constituents-financials_csv.csv', encoding='windows-1252')\n",
    "\n",
    "print('df1 columns:\\n', df1.columns, '\\n')\n",
    "print('df2 columns:\\n', df2.columns, '\\n')\n",
    "print('df3 columns:\\n', df3.columns, '\\n')"
   ]
  },
  {
   "cell_type": "code",
   "execution_count": null,
   "metadata": {},
   "outputs": [],
   "source": [
    "# Merging data into master dataframe\n",
    "df_merge = df1.merge(df2, how='inner', on='Ticker')\n",
    "df_merge = df_merge.merge(df3, how='inner', left_on='Ticker', right_on='Symbol')\n",
    "\n",
    "pd.set_option('display.max_columns', None)\n",
    "df_merge.head()"
   ]
  },
  {
   "cell_type": "code",
   "execution_count": null,
   "metadata": {},
   "outputs": [],
   "source": [
    "# Looking at information on each column\n",
    "df_merge.info()"
   ]
  },
  {
   "cell_type": "code",
   "execution_count": null,
   "metadata": {},
   "outputs": [],
   "source": [
    "# Dimensions of dataframe\n",
    "print('Number of rows and columns', df_merge.shape)\n",
    "\n",
    "# checking for null/NaN values in each column\n",
    "df_merge.isnull().sum()"
   ]
  },
  {
   "cell_type": "markdown",
   "metadata": {},
   "source": [
    "## Data Cleaning and Preprocessing:\n",
    "Step 2: Data preparation before analysis\n",
    "\n",
    "Preparation includes removal of unnecessary columns, standardizing column headers, changing column datatypes, adding new columns, changing the format of numbers, dealing with null/NaN values, etc."
   ]
  },
  {
   "cell_type": "code",
   "execution_count": null,
   "metadata": {},
   "outputs": [],
   "source": [
    "# Removing unwanted columns\n",
    "df_merge = df_merge.drop(columns=['Name_x','Name_y','Symbol','Sector','SEC Filings',\n",
    "                                  '52 Week Low','52 Week High','Price','Date added',\n",
    "                                  'Founded','Research Development', 'Unnamed: 0'],\n",
    "                         axis=1)\n",
    "\n",
    "# renaming columns for consistency in capitalization\n",
    "df_merge = df_merge.rename(columns={'date':'Date',\n",
    "                                    'firm':'Firm',\n",
    "                                    'Ebit':'EBIT'})\n",
    "\n",
    "# changing Date column into a datetime data type\n",
    "df_merge['Date'] = pd.to_datetime(df_merge['Date'])\n",
    "\n",
    "# Separating headquarter city and state into its own columns\n",
    "df_merge[['Headquarter City', 'Headquarter State']] = df_merge['Headquarters Location'].str.split(',',1,expand=True)\n",
    "df_merge = df_merge.drop(columns='Headquarters Location', axis=1)\n",
    "\n",
    "# changing format of numbers\n",
    "pd.options.display.float_format = '{:.2f}'.format\n",
    "\n",
    "df_merge"
   ]
  },
  {
   "cell_type": "code",
   "execution_count": null,
   "metadata": {},
   "outputs": [],
   "source": [
    "# grouping data by Ticker symbol and taking the average for numerical data\n",
    "df_summary = df_merge.groupby('Ticker').mean()\n",
    "pd.merge(df_summary, df2, on='Ticker')\n",
    "df_summary = df_summary.merge(df2,on='Ticker')\n",
    "df_summary[['Headquarter City', 'Headquarter State']] = df_summary['Headquarters Location'].str.split(',',1,expand=True)\n",
    "df_summary = df_summary.drop(columns=['Headquarters Location','Sub-Industry','Date added','Founded','Price/Sales','Price/Book',\n",
    "                                      'Total Other Income Expense Net','Net Income From Continuing Ops','Net Income Applicable To Common Shares',\n",
    "                                      'Income Tax Expense','Interest Expense','Selling General Administrative','EBIT','EBITDA'],\n",
    "                           axis=1)\n",
    "df_summary"
   ]
  },
  {
   "cell_type": "code",
   "execution_count": null,
   "metadata": {},
   "outputs": [],
   "source": [
    "# Taking a look at df_summary\n",
    "companies = len(pd.unique(df_summary['Ticker']))\n",
    "print('Number of companies in dataset:', companies,'\\n')\n",
    "\n",
    "print('Number of rows and columns:', df_summary.shape,'\\n')\n",
    "\n",
    "print('Column names:\\n', df_summary.columns,'\\n')"
   ]
  },
  {
   "cell_type": "code",
   "execution_count": null,
   "metadata": {},
   "outputs": [],
   "source": [
    "# Descriptive statistics about the data\n",
    "df_summary.describe()"
   ]
  },
  {
   "cell_type": "code",
   "execution_count": null,
   "metadata": {},
   "outputs": [],
   "source": [
    "# checking for null/NaN values in each column\n",
    "df_summary.isnull().sum()"
   ]
  },
  {
   "cell_type": "code",
   "execution_count": null,
   "metadata": {},
   "outputs": [],
   "source": [
    "# seeing how many unique entries there are in each column\n",
    "df_summary.nunique()"
   ]
  },
  {
   "cell_type": "code",
   "execution_count": null,
   "metadata": {},
   "outputs": [],
   "source": [
    "# companies with highest market cap\n",
    "df_summary.sort_values(by='Market Cap', ascending=False).head(10)"
   ]
  },
  {
   "cell_type": "markdown",
   "metadata": {},
   "source": [
    "## Exploratory Data Analysis / Data Visualization:\n",
    "Step 3: Analyzing data to find patterns, relationships, and trends\n",
    "\n",
    "Visualizing the data using matplotlib and seaborn to obtain insights and provide strategic recommendations. Also using scikit-learn to model the data, specially with linear regression."
   ]
  },
  {
   "cell_type": "code",
   "execution_count": null,
   "metadata": {},
   "outputs": [],
   "source": [
    "# Bar plot depicting average net income by industry\n",
    "plt.figure(figsize=(20,7))\n",
    "sns.barplot(data = df_merge, x='Industry', y='Net Income')\n",
    "plt.title('Average Net Income by Industry')\n",
    "plt.xticks(rotation=30)\n",
    "plt.ticklabel_format(style='plain', axis='y')\n",
    "plt.show()"
   ]
  },
  {
   "cell_type": "code",
   "execution_count": null,
   "metadata": {},
   "outputs": [],
   "source": [
    "# Count plot of companies for each industry\n",
    "plt.figure(figsize=(15,5))\n",
    "industry_count = sns.countplot(data=df_summary, x='Industry', order = df_summary['Industry'].value_counts(ascending=False).index)\n",
    "plt.title('Number of Companies per Industry')\n",
    "plt.xticks(rotation=30)\n",
    "\n",
    "for i in industry_count.containers:\n",
    "    industry_count.bar_label(i)\n",
    "    \n",
    "plt.show()"
   ]
  },
  {
   "cell_type": "code",
   "execution_count": null,
   "metadata": {},
   "outputs": [],
   "source": [
    "# Visualizing the number of companies per industry in a pie chart\n",
    "industries = df_summary['Industry'].unique()\n",
    "\n",
    "industry_count = {}\n",
    "for industry in industries:\n",
    "    industry_count[industry] = 0\n",
    "\n",
    "for _, row in df_summary.iterrows():\n",
    "    industry_temp = row['Industry']\n",
    "    industry_count[industry_temp] += 1\n",
    "    \n",
    "keys = list(industry_count.keys())\n",
    "counts = list(industry_count.values())\n",
    "\n",
    "plt.figure(figsize=(10,5))\n",
    "plt.pie(counts, labels=keys, autopct='%.1f%%', explode = (0, 0, 0, 0, 0, 0.1, 0, 0 ,0.1 ,0 ,0))\n",
    "plt.show()"
   ]
  },
  {
   "cell_type": "code",
   "execution_count": null,
   "metadata": {},
   "outputs": [],
   "source": [
    "# Box plot showing dividend yield by industry\n",
    "plt.figure(figsize=(15,5))\n",
    "sns.boxplot(data = df_summary, x='Industry', y='Dividend Yield')\n",
    "plt.title('Dividend Yield by Industry')\n",
    "plt.xticks(rotation=30)\n",
    "plt.show()"
   ]
  },
  {
   "cell_type": "code",
   "execution_count": null,
   "metadata": {},
   "outputs": [],
   "source": [
    "# creating pair plot to see relation between various numeric fields\n",
    "sns.pairplot(df_summary[['Net Income','Total Revenue','Total Operating Expenses','Dividend Yield','Market Cap']])"
   ]
  },
  {
   "cell_type": "code",
   "execution_count": null,
   "metadata": {},
   "outputs": [],
   "source": [
    "# Scatter plot showing relation between net income and market cap\n",
    "plt.figure(figsize=(10,5))\n",
    "plt.scatter(data=df_summary, x='Market Cap', y='Net Income', alpha=0.5)\n",
    "plt.title('Net Income by Market Cap')\n",
    "plt.xlabel('Market Cap')\n",
    "plt.ylabel('Net Income')\n",
    "plt.ticklabel_format(style='plain')\n",
    "plt.xticks(rotation=30)\n",
    "plt.show()"
   ]
  },
  {
   "cell_type": "code",
   "execution_count": null,
   "metadata": {},
   "outputs": [],
   "source": [
    "# Test train split for scikit-learn linear regression model\n",
    "x_train, x_test, y_train, y_test = train_test_split(df_summary['Market Cap'], df_summary['Net Income'])"
   ]
  },
  {
   "cell_type": "code",
   "execution_count": null,
   "metadata": {},
   "outputs": [],
   "source": [
    "# Test train split visualization\n",
    "plt.figure(figsize=(10,5))\n",
    "plt.scatter(x_train, y_train, label='Training Data', color='r', alpha=0.5)\n",
    "plt.scatter(x_test, y_test, label='Testing Data', color='g', alpha=0.5)\n",
    "plt.ticklabel_format(style='plain')\n",
    "plt.xticks(rotation=30)\n",
    "plt.legend()\n",
    "plt.title('Test Train Split')\n",
    "plt.xlabel('Market Cap')\n",
    "plt.ylabel('Net Income')\n",
    "plt.show()"
   ]
  },
  {
   "cell_type": "code",
   "execution_count": null,
   "metadata": {},
   "outputs": [],
   "source": [
    "# Creating and training linear model\n",
    "lr = LinearRegression()\n",
    "lr.fit(x_train.values.reshape(-1,1), y_train.values)\n",
    "\n",
    "# Using linear model to predict test data\n",
    "prediction = lr.predict(x_test.values.reshape(-1,1))\n",
    "\n",
    "# Plotting prediction line against actual test data\n",
    "plt.figure(figsize=(10,5))\n",
    "plt.plot(x_test, prediction, label='Linear Regression', color='b')\n",
    "plt.scatter(x_test, y_test, label='Actual Test Data', color='g', alpha = 0.5)\n",
    "plt.ticklabel_format(style='plain')\n",
    "plt.xticks(rotation=30)\n",
    "plt.xlabel('Market Cap')\n",
    "plt.ylabel('Net Income')\n",
    "plt.legend()\n",
    "plt.show()"
   ]
  },
  {
   "cell_type": "code",
   "execution_count": null,
   "metadata": {},
   "outputs": [],
   "source": [
    "# Predict Net Income of company with Market Cap of 300 billion\n",
    "lr.predict(np.array([[300000000000]]))[0]"
   ]
  },
  {
   "cell_type": "code",
   "execution_count": null,
   "metadata": {},
   "outputs": [],
   "source": [
    "# Score model\n",
    "score = lr.score(x_test.values.reshape(-1,1), y_test.values)\n",
    "print(f'The coefficient of determination (r^2): {score}\\nThis indicates that {round(score,4)*100}% of the variation in Net Income is attributable to the company\\'s Market Cap.' )\n",
    "\n",
    "correlation = math.sqrt(score)\n",
    "print(f'Correlation (r): {round(correlation,2)}' )"
   ]
  },
  {
   "cell_type": "markdown",
   "metadata": {},
   "source": [
    "## Summary:\n",
    "Step 4: Findings, reflections, challenges, etc.\n",
    "\n",
    "### Goals / Objectives:\n",
    "1. What relations exist between S&P 500 companies and key financial metrics?\n",
    "2. How can information on these companies be used by investors to make financial decisions?\n",
    "3. How does net income differ from by industry/sector?\n",
    "    - What is the distribution of industries like for companies in the S&P 500?\n",
    "\n",
    "### Challenges:\n",
    "\n",
    "\n",
    "### Next Steps:\n",
    "\n"
   ]
  }
 ],
 "metadata": {
  "kernelspec": {
   "display_name": "base",
   "language": "python",
   "name": "python3"
  },
  "language_info": {
   "codemirror_mode": {
    "name": "ipython",
    "version": 3
   },
   "file_extension": ".py",
   "mimetype": "text/x-python",
   "name": "python",
   "nbconvert_exporter": "python",
   "pygments_lexer": "ipython3",
   "version": "3.11.4"
  }
 },
 "nbformat": 4,
 "nbformat_minor": 2
}
